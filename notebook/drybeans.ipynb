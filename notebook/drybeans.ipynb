{
 "cells": [
  {
   "cell_type": "markdown",
   "id": "738b2615-b3f9-4eab-8c22-b505a5035bab",
   "metadata": {},
   "source": [
    "# Dry Beans Classification With Supervised Learning\n"
   ]
  },
  {
   "cell_type": "markdown",
   "id": "f3592b26-bd0a-4f19-a50f-8dc181dc940b",
   "metadata": {},
   "source": [
    "<center><img src=\"images/beans.jpg\" style=\"height: 40em;\"/></center>"
   ]
  },
  {
   "cell_type": "markdown",
   "id": "1baf99fe-2131-45e2-bfb1-b6e375cd446a",
   "metadata": {},
   "source": [
    "IART 2020/2021  - T4G4\n",
    "\n",
    "Breno Accioly   - up201800170@fe.up.pt\n",
    "\n",
    "Ivo Saavedra    - up201707093@fe.up.pt\n",
    "\n",
    "Rodrigo Reis    - up201806534@fe.up.pt"
   ]
  },
  {
   "cell_type": "markdown",
   "id": "107e677d-bece-4646-a95e-0e63ad07516f",
   "metadata": {},
   "source": [
    "## Introduction\n",
    "\n",
    "\"Seven different types of dry beans were used in this research, taking into account the features such as form, shape, type, and structure by the market situation. A computer vision system was developed to distinguish seven different registered varieties of dry beans with similar features in order to obtain uniform seed classification. For the classification model, images of 13,611 grains of 7 different registered dry beans were taken with a high-resolution camera. Bean images obtained by computer vision system were subjected to segmentation and feature extraction stages, and a total of 16 features; 12 dimensions and 4 shape forms, were obtained from the grains.\""
   ]
  },
  {
   "cell_type": "code",
   "execution_count": null,
   "id": "87d9d711-2625-4b76-bf51-65727ced2703",
   "metadata": {},
   "outputs": [],
   "source": []
  },
  {
   "cell_type": "code",
   "execution_count": null,
   "id": "dd92c438-c88e-426c-87e2-c01030b85d4f",
   "metadata": {},
   "outputs": [],
   "source": []
  }
 ],
 "metadata": {
  "kernelspec": {
   "display_name": "Python 3",
   "language": "python",
   "name": "python3"
  },
  "language_info": {
   "codemirror_mode": {
    "name": "ipython",
    "version": 3
   },
   "file_extension": ".py",
   "mimetype": "text/x-python",
   "name": "python",
   "nbconvert_exporter": "python",
   "pygments_lexer": "ipython3",
   "version": "3.8.6"
  }
 },
 "nbformat": 4,
 "nbformat_minor": 5
}
